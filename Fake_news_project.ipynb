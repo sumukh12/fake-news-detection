{
  "nbformat": 4,
  "nbformat_minor": 0,
  "metadata": {
    "colab": {
      "name": "Fake news project",
      "provenance": [],
      "collapsed_sections": []
    },
    "kernelspec": {
      "display_name": "Python 3",
      "name": "python3"
    },
    "language_info": {
      "name": "python"
    }
  },
  "cells": [
    {
      "cell_type": "markdown",
      "metadata": {
        "id": "qBotnI2TNBGf"
      },
      "source": [
        "**Fake** **News**"
      ]
    },
    {
      "cell_type": "markdown",
      "metadata": {
        "id": "hLCccz8-MmBZ"
      },
      "source": [
        "### The authenticity of Information has become a longstanding issue affecting businesses and society, both for printed and digital media. On social networks, the reach and effects of information spread occur at such a fast pace and so amplified that distorted, inaccurate, or false information acquires a tremendous potential to cause real-world impacts, within minutes, for millions of users. Recently, several public concerns about this problem and some approaches to mitigate the problem were expressed. "
      ]
    },
    {
      "cell_type": "markdown",
      "metadata": {
        "id": "939qr5JZsziY"
      },
      "source": [
        "### Label 0 stand for unfake,1 stand for fake"
      ]
    },
    {
      "cell_type": "code",
      "metadata": {
        "id": "FtsiQ3t8JoR5"
      },
      "source": [
        "#Loading library\n",
        "import pandas as pd\n",
        "#Loading algebra library\n",
        "import numpy as np\n",
        "#Loading Visualization libraryy\n",
        "import matplotlib.pyplot as plt\n",
        "import seaborn as sns\n",
        "#Loading missing visualization library\n",
        "import missingno as misso\n",
        "#Loading warning library\n",
        "import warnings\n",
        "warnings.filterwarnings(\"ignore\")"
      ],
      "execution_count": 1,
      "outputs": []
    },
    {
      "cell_type": "code",
      "metadata": {
        "id": "AvOaOykPLZ_f"
      },
      "source": [
        "#Loading maximum columns and rows\n",
        "pd.set_option(\"Display.max_columns\",None)\n",
        "pd.set_option(\"Display.max_rows\",None)"
      ],
      "execution_count": 2,
      "outputs": []
    },
    {
      "cell_type": "code",
      "metadata": {
        "id": "7ac3ejUVMPJ-"
      },
      "source": [
        "df_fake=pd.read_csv(\"/content/drive/MyDrive/train_news.csv\")"
      ],
      "execution_count": 3,
      "outputs": []
    },
    {
      "cell_type": "code",
      "metadata": {
        "id": "4dSyXNDJOoX6",
        "colab": {
          "base_uri": "https://localhost:8080/",
          "height": 204
        },
        "outputId": "fdf7e9ba-a331-4c05-f53b-cc8444896269"
      },
      "source": [
        "df_fake.head()"
      ],
      "execution_count": 4,
      "outputs": [
        {
          "output_type": "execute_result",
          "data": {
            "text/html": [
              "<div>\n",
              "<style scoped>\n",
              "    .dataframe tbody tr th:only-of-type {\n",
              "        vertical-align: middle;\n",
              "    }\n",
              "\n",
              "    .dataframe tbody tr th {\n",
              "        vertical-align: top;\n",
              "    }\n",
              "\n",
              "    .dataframe thead th {\n",
              "        text-align: right;\n",
              "    }\n",
              "</style>\n",
              "<table border=\"1\" class=\"dataframe\">\n",
              "  <thead>\n",
              "    <tr style=\"text-align: right;\">\n",
              "      <th></th>\n",
              "      <th>Unnamed: 0</th>\n",
              "      <th>id</th>\n",
              "      <th>headline</th>\n",
              "      <th>written_by</th>\n",
              "      <th>news</th>\n",
              "      <th>label</th>\n",
              "    </tr>\n",
              "  </thead>\n",
              "  <tbody>\n",
              "    <tr>\n",
              "      <th>0</th>\n",
              "      <td>0</td>\n",
              "      <td>9653</td>\n",
              "      <td>Ethics Questions Dogged Agriculture Nominee as...</td>\n",
              "      <td>Eric Lipton and Steve Eder</td>\n",
              "      <td>WASHINGTON  —   In Sonny Perdue’s telling, Geo...</td>\n",
              "      <td>0</td>\n",
              "    </tr>\n",
              "    <tr>\n",
              "      <th>1</th>\n",
              "      <td>1</td>\n",
              "      <td>10041</td>\n",
              "      <td>U.S. Must Dig Deep to Stop Argentina’s Lionel ...</td>\n",
              "      <td>David Waldstein</td>\n",
              "      <td>HOUSTON  —   Venezuela had a plan. It was a ta...</td>\n",
              "      <td>0</td>\n",
              "    </tr>\n",
              "    <tr>\n",
              "      <th>2</th>\n",
              "      <td>2</td>\n",
              "      <td>19113</td>\n",
              "      <td>Cotton to House: ’Do Not Walk the Plank and Vo...</td>\n",
              "      <td>Pam Key</td>\n",
              "      <td>Sunday on ABC’s “This Week,” while discussing ...</td>\n",
              "      <td>0</td>\n",
              "    </tr>\n",
              "    <tr>\n",
              "      <th>3</th>\n",
              "      <td>3</td>\n",
              "      <td>6868</td>\n",
              "      <td>Paul LePage, Besieged Maine Governor, Sends Co...</td>\n",
              "      <td>Jess Bidgood</td>\n",
              "      <td>AUGUSTA, Me.  —   The beleaguered Republican g...</td>\n",
              "      <td>0</td>\n",
              "    </tr>\n",
              "    <tr>\n",
              "      <th>4</th>\n",
              "      <td>4</td>\n",
              "      <td>7596</td>\n",
              "      <td>A Digital 9/11 If Trump Wins</td>\n",
              "      <td>Finian Cunningham</td>\n",
              "      <td>Finian Cunningham has written extensively on...</td>\n",
              "      <td>1</td>\n",
              "    </tr>\n",
              "  </tbody>\n",
              "</table>\n",
              "</div>"
            ],
            "text/plain": [
              "   Unnamed: 0     id                                           headline  \\\n",
              "0           0   9653  Ethics Questions Dogged Agriculture Nominee as...   \n",
              "1           1  10041  U.S. Must Dig Deep to Stop Argentina’s Lionel ...   \n",
              "2           2  19113  Cotton to House: ’Do Not Walk the Plank and Vo...   \n",
              "3           3   6868  Paul LePage, Besieged Maine Governor, Sends Co...   \n",
              "4           4   7596                       A Digital 9/11 If Trump Wins   \n",
              "\n",
              "                   written_by  \\\n",
              "0  Eric Lipton and Steve Eder   \n",
              "1             David Waldstein   \n",
              "2                     Pam Key   \n",
              "3                Jess Bidgood   \n",
              "4           Finian Cunningham   \n",
              "\n",
              "                                                news  label  \n",
              "0  WASHINGTON  —   In Sonny Perdue’s telling, Geo...      0  \n",
              "1  HOUSTON  —   Venezuela had a plan. It was a ta...      0  \n",
              "2  Sunday on ABC’s “This Week,” while discussing ...      0  \n",
              "3  AUGUSTA, Me.  —   The beleaguered Republican g...      0  \n",
              "4    Finian Cunningham has written extensively on...      1  "
            ]
          },
          "metadata": {
            "tags": []
          },
          "execution_count": 4
        }
      ]
    },
    {
      "cell_type": "code",
      "metadata": {
        "colab": {
          "base_uri": "https://localhost:8080/"
        },
        "id": "0h5pIdyJOuD4",
        "outputId": "0a0ba0d1-68be-4ca8-ef96-78988e035536"
      },
      "source": [
        "#Checking the shape of columns\n",
        "df_fake.shape"
      ],
      "execution_count": null,
      "outputs": [
        {
          "output_type": "execute_result",
          "data": {
            "text/plain": [
              "(20800, 6)"
            ]
          },
          "metadata": {
            "tags": []
          },
          "execution_count": 9
        }
      ]
    },
    {
      "cell_type": "code",
      "metadata": {
        "colab": {
          "background_save": true
        },
        "id": "KFzDqXb1QbBc",
        "outputId": "ef856d5e-d8ff-4714-f93e-1337ecbcb7ee"
      },
      "source": [
        "#Checking the columns\n",
        "df_fake.columns"
      ],
      "execution_count": null,
      "outputs": [
        {
          "output_type": "execute_result",
          "data": {
            "text/plain": [
              "Index(['Unnamed: 0', 'id', 'headline', 'written_by', 'news', 'label'], dtype='object')"
            ]
          },
          "metadata": {
            "tags": []
          },
          "execution_count": 0
        }
      ]
    },
    {
      "cell_type": "code",
      "metadata": {
        "colab": {
          "base_uri": "https://localhost:8080/",
          "height": 204
        },
        "id": "ZWUAcZlZQ1sj",
        "outputId": "679cebf2-dc92-408f-caa4-3d541da89f81"
      },
      "source": [
        "#Dataset has extra column unnamed so i make a new index\n",
        "df_fake=pd.read_csv(\"/content/drive/MyDrive/train_news.csv\",index_col=\"Unnamed: 0\")\n",
        "df_fake.head()"
      ],
      "execution_count": 4,
      "outputs": [
        {
          "output_type": "execute_result",
          "data": {
            "text/html": [
              "<div>\n",
              "<style scoped>\n",
              "    .dataframe tbody tr th:only-of-type {\n",
              "        vertical-align: middle;\n",
              "    }\n",
              "\n",
              "    .dataframe tbody tr th {\n",
              "        vertical-align: top;\n",
              "    }\n",
              "\n",
              "    .dataframe thead th {\n",
              "        text-align: right;\n",
              "    }\n",
              "</style>\n",
              "<table border=\"1\" class=\"dataframe\">\n",
              "  <thead>\n",
              "    <tr style=\"text-align: right;\">\n",
              "      <th></th>\n",
              "      <th>id</th>\n",
              "      <th>headline</th>\n",
              "      <th>written_by</th>\n",
              "      <th>news</th>\n",
              "      <th>label</th>\n",
              "    </tr>\n",
              "  </thead>\n",
              "  <tbody>\n",
              "    <tr>\n",
              "      <th>0</th>\n",
              "      <td>9653</td>\n",
              "      <td>Ethics Questions Dogged Agriculture Nominee as...</td>\n",
              "      <td>Eric Lipton and Steve Eder</td>\n",
              "      <td>WASHINGTON  —   In Sonny Perdue’s telling, Geo...</td>\n",
              "      <td>0</td>\n",
              "    </tr>\n",
              "    <tr>\n",
              "      <th>1</th>\n",
              "      <td>10041</td>\n",
              "      <td>U.S. Must Dig Deep to Stop Argentina’s Lionel ...</td>\n",
              "      <td>David Waldstein</td>\n",
              "      <td>HOUSTON  —   Venezuela had a plan. It was a ta...</td>\n",
              "      <td>0</td>\n",
              "    </tr>\n",
              "    <tr>\n",
              "      <th>2</th>\n",
              "      <td>19113</td>\n",
              "      <td>Cotton to House: ’Do Not Walk the Plank and Vo...</td>\n",
              "      <td>Pam Key</td>\n",
              "      <td>Sunday on ABC’s “This Week,” while discussing ...</td>\n",
              "      <td>0</td>\n",
              "    </tr>\n",
              "    <tr>\n",
              "      <th>3</th>\n",
              "      <td>6868</td>\n",
              "      <td>Paul LePage, Besieged Maine Governor, Sends Co...</td>\n",
              "      <td>Jess Bidgood</td>\n",
              "      <td>AUGUSTA, Me.  —   The beleaguered Republican g...</td>\n",
              "      <td>0</td>\n",
              "    </tr>\n",
              "    <tr>\n",
              "      <th>4</th>\n",
              "      <td>7596</td>\n",
              "      <td>A Digital 9/11 If Trump Wins</td>\n",
              "      <td>Finian Cunningham</td>\n",
              "      <td>Finian Cunningham has written extensively on...</td>\n",
              "      <td>1</td>\n",
              "    </tr>\n",
              "  </tbody>\n",
              "</table>\n",
              "</div>"
            ],
            "text/plain": [
              "      id                                           headline  \\\n",
              "0   9653  Ethics Questions Dogged Agriculture Nominee as...   \n",
              "1  10041  U.S. Must Dig Deep to Stop Argentina’s Lionel ...   \n",
              "2  19113  Cotton to House: ’Do Not Walk the Plank and Vo...   \n",
              "3   6868  Paul LePage, Besieged Maine Governor, Sends Co...   \n",
              "4   7596                       A Digital 9/11 If Trump Wins   \n",
              "\n",
              "                   written_by  \\\n",
              "0  Eric Lipton and Steve Eder   \n",
              "1             David Waldstein   \n",
              "2                     Pam Key   \n",
              "3                Jess Bidgood   \n",
              "4           Finian Cunningham   \n",
              "\n",
              "                                                news  label  \n",
              "0  WASHINGTON  —   In Sonny Perdue’s telling, Geo...      0  \n",
              "1  HOUSTON  —   Venezuela had a plan. It was a ta...      0  \n",
              "2  Sunday on ABC’s “This Week,” while discussing ...      0  \n",
              "3  AUGUSTA, Me.  —   The beleaguered Republican g...      0  \n",
              "4    Finian Cunningham has written extensively on...      1  "
            ]
          },
          "metadata": {
            "tags": []
          },
          "execution_count": 4
        }
      ]
    },
    {
      "cell_type": "code",
      "metadata": {
        "colab": {
          "background_save": true
        },
        "id": "zcoXpGFbR6KK",
        "outputId": "35b1adf9-0933-4b2a-9c21-a6bcf47e81fa"
      },
      "source": [
        "#Checking the nuymber of unique healine\n",
        "print(\"There is {} unique headlines in this dataset such as :\\n\\n{}...\".format(len(df_fake.headline.unique()),\n",
        "                                                                               \"\\n\\n\".join(df_fake.headline.unique()[0:5])))"
      ],
      "execution_count": null,
      "outputs": [
        {
          "output_type": "stream",
          "text": [
            "There is 19804 unique headlines in this dataset such as :\n",
            "\n",
            "Ethics Questions Dogged Agriculture Nominee as Georgia Governor - The New York Times\n",
            "\n",
            "U.S. Must Dig Deep to Stop Argentina’s Lionel Messi - The New York Times\n",
            "\n",
            "Cotton to House: ’Do Not Walk the Plank and Vote for a Bill that Cannot Pass the Senate’ - Breitbart\n",
            "\n",
            "Paul LePage, Besieged Maine Governor, Sends Conflicting Signals Over Intentions - The New York Times\n",
            "\n",
            "A Digital 9/11 If Trump Wins...\n"
          ],
          "name": "stdout"
        }
      ]
    },
    {
      "cell_type": "code",
      "metadata": {
        "colab": {
          "background_save": true
        },
        "id": "Krp3Lwr3UVyd",
        "outputId": "daca60cf-0c3c-4f28-9508-31aaf14e39af"
      },
      "source": [
        "#Checking the information of the dataset\n",
        "df_fake.info()"
      ],
      "execution_count": null,
      "outputs": [
        {
          "output_type": "stream",
          "text": [
            "<class 'pandas.core.frame.DataFrame'>\n",
            "Int64Index: 20800 entries, 0 to 20799\n",
            "Data columns (total 5 columns):\n",
            " #   Column      Non-Null Count  Dtype \n",
            "---  ------      --------------  ----- \n",
            " 0   id          20800 non-null  int64 \n",
            " 1   headline    20242 non-null  object\n",
            " 2   written_by  18843 non-null  object\n",
            " 3   news        20761 non-null  object\n",
            " 4   label       20800 non-null  int64 \n",
            "dtypes: int64(2), object(3)\n",
            "memory usage: 975.0+ KB\n"
          ],
          "name": "stdout"
        }
      ]
    },
    {
      "cell_type": "code",
      "metadata": {
        "colab": {
          "background_save": true
        },
        "id": "mDyYe5fWUfDZ"
      },
      "source": [
        "#Observation:\n",
        "          # 1]In the above dataset id and label are integers and rest all are categorical data\n",
        "            "
      ],
      "execution_count": null,
      "outputs": []
    },
    {
      "cell_type": "code",
      "metadata": {
        "colab": {
          "background_save": true
        },
        "id": "Vdp8tf6pVLvD",
        "outputId": "69c1f872-3764-4717-a70c-81030b961931"
      },
      "source": [
        "#Checking the label attribute\n",
        "df_fake.label.unique()"
      ],
      "execution_count": null,
      "outputs": [
        {
          "output_type": "execute_result",
          "data": {
            "text/plain": [
              "array([0, 1])"
            ]
          },
          "metadata": {
            "tags": []
          },
          "execution_count": 0
        }
      ]
    },
    {
      "cell_type": "markdown",
      "metadata": {
        "id": "8IINSBQiVdeA"
      },
      "source": [
        "## Checking the missing values"
      ]
    },
    {
      "cell_type": "code",
      "metadata": {
        "colab": {
          "background_save": true
        },
        "id": "KeWVDF8oVlNP",
        "outputId": "73d3c5df-0a68-4760-85bc-cc2f05b77d0b"
      },
      "source": [
        "#Checking the missing values in dataset\n",
        "df_fake.isnull().sum()"
      ],
      "execution_count": null,
      "outputs": [
        {
          "output_type": "execute_result",
          "data": {
            "text/plain": [
              "id               0\n",
              "headline       558\n",
              "written_by    1957\n",
              "news            39\n",
              "label            0\n",
              "dtype: int64"
            ]
          },
          "metadata": {
            "tags": []
          },
          "execution_count": 0
        }
      ]
    },
    {
      "cell_type": "code",
      "metadata": {
        "colab": {
          "background_save": true
        },
        "id": "Dx1Lb5JxVwom",
        "outputId": "7d7032b6-0341-43d0-aa10-20c94a399ea2"
      },
      "source": [
        "df_fake.isnull().values.any()"
      ],
      "execution_count": null,
      "outputs": [
        {
          "output_type": "execute_result",
          "data": {
            "text/plain": [
              "True"
            ]
          },
          "metadata": {
            "tags": []
          },
          "execution_count": 0
        }
      ]
    },
    {
      "cell_type": "code",
      "metadata": {
        "colab": {
          "background_save": true
        },
        "id": "NUMG9usMV5Hp"
      },
      "source": [
        "#There is missing value in our datasets."
      ],
      "execution_count": null,
      "outputs": []
    },
    {
      "cell_type": "code",
      "metadata": {
        "colab": {
          "background_save": true
        },
        "id": "wntxHoUIWEsR",
        "outputId": "32986281-dbe3-4729-ff1c-2652b40f4a39"
      },
      "source": [
        "#Seeing the missing values via visualization\n",
        "plt.figure(figsize=(10,8))\n",
        "sns.heatmap(df_fake.isnull(),yticklabels=False,cbar=False,cmap=\"Dark2\")\n",
        "plt.show()"
      ],
      "execution_count": null,
      "outputs": [
        {
          "output_type": "display_data",
          "data": {
            "image/png": "[encoded data removed]",
            "text/plain": [
              "<Figure size 720x576 with 1 Axes>"
            ]
          },
          "metadata": {
            "tags": []
          }
        }
      ]
    },
    {
      "cell_type": "code",
      "metadata": {
        "colab": {
          "background_save": true
        },
        "id": "mJAWBSw3XYya"
      },
      "source": [
        "#Observation:\n",
        "#The maximum missing values present in written_by and headline,and only few in new columns.as the data is textbased we cannot fill missing value with mode,median,mean."
      ],
      "execution_count": null,
      "outputs": []
    },
    {
      "cell_type": "code",
      "metadata": {
        "colab": {
          "background_save": true
        },
        "id": "EFB6CR_yZAk4",
        "outputId": "86609058-390d-4dce-d117-8ef9a0ef5b86"
      },
      "source": [
        "#plotting the barplot of the null values\n",
        "plt.figure(figsize=(10,8))\n",
        "misso.bar(df_fake,fontsize=15,sort=\"descending\",log=True,color=\"blue\")\n",
        "plt.plot()"
      ],
      "execution_count": null,
      "outputs": [
        {
          "output_type": "execute_result",
          "data": {
            "text/plain": [
              "[]"
            ]
          },
          "metadata": {
            "tags": []
          },
          "execution_count": 0
        },
        {
          "output_type": "display_data",
          "data": {
            "image/png": "[encoded data removed]",
            "text/plain": [
              "<Figure size 1800x720 with 3 Axes>"
            ]
          },
          "metadata": {
            "tags": []
          }
        }
      ]
    },
    {
      "cell_type": "code",
      "metadata": {
        "colab": {
          "background_save": true
        },
        "id": "L-MOJGZLaPtU"
      },
      "source": [
        "#Missing number barplot,plots the graph of non missing values as well as providing the actual number present in datasets.we get the knowledge of how much missing value is missing.\n",
        "#I have to remove the null values present in the rows because it is a text data i cannot feel it ,so its better to drop them"
      ],
      "execution_count": null,
      "outputs": []
    },
    {
      "cell_type": "code",
      "metadata": {
        "colab": {
          "base_uri": "https://localhost:8080/"
        },
        "id": "tAVH9jHobpbq",
        "outputId": "a544c72f-7a7b-449b-a04f-4ff4193fbe80"
      },
      "source": [
        "#Here we can see the percentage of nan values present in each features\n",
        "feature_nan=[features for features in df_fake.columns if df_fake[features].isnull().sum()>1]\n",
        "#percentage of missing values\n",
        "for feature in feature_nan:\n",
        "  print(feature,np.round(df_fake[feature].isnull().mean(),4), \"%Missing values\")\n"
      ],
      "execution_count": null,
      "outputs": [
        {
          "output_type": "stream",
          "text": [
            "headline 0.0268 %Missing values\n",
            "written_by 0.0941 %Missing values\n",
            "news 0.0019 %Missing values\n"
          ],
          "name": "stdout"
        }
      ]
    },
    {
      "cell_type": "code",
      "metadata": {
        "id": "aFCJhHrMddR0"
      },
      "source": [
        "#Droping nan values\n",
        "df_fake=df_fake.dropna()"
      ],
      "execution_count": 5,
      "outputs": []
    },
    {
      "cell_type": "code",
      "metadata": {
        "id": "PC9GAUQqdq8O",
        "colab": {
          "base_uri": "https://localhost:8080/",
          "height": 586
        },
        "outputId": "30f932a2-7ab7-4048-e8df-ef54f7cec0e3"
      },
      "source": [
        "#Plotting the barplot wheather null value present anymore\n",
        "plt.figure(figsize=(10,8))\n",
        "misso.bar(df_fake,fontsize=15,color=\"yellow\",sort=\"descending\",log=True)\n",
        "plt.plot()"
      ],
      "execution_count": null,
      "outputs": [
        {
          "output_type": "execute_result",
          "data": {
            "text/plain": [
              "[]"
            ]
          },
          "metadata": {
            "tags": []
          },
          "execution_count": 8
        },
        {
          "output_type": "display_data",
          "data": {
            "image/png": "[encoded data removed]",
            "text/plain": [
              "<Figure size 1800x720 with 3 Axes>"
            ]
          },
          "metadata": {
            "tags": [],
            "needs_background": "light"
          }
        }
      ]
    },
    {
      "cell_type": "code",
      "metadata": {
        "id": "fsH3kOzfeWDn",
        "colab": {
          "base_uri": "https://localhost:8080/"
        },
        "outputId": "79885d3f-bfd5-41ec-ecda-22f963011c7f"
      },
      "source": [
        "#checking the shape of dataset after removing the null values\n",
        "print(\"After removing the null value the shape of dataset is :\",df_fake.shape)"
      ],
      "execution_count": null,
      "outputs": [
        {
          "output_type": "stream",
          "text": [
            "After removing the null value the shape of dataset is : (18285, 5)\n"
          ],
          "name": "stdout"
        }
      ]
    },
    {
      "cell_type": "code",
      "metadata": {
        "id": "MJ0weNB3gLKL",
        "colab": {
          "base_uri": "https://localhost:8080/"
        },
        "outputId": "0d2d76a5-ba49-4184-f85b-e778b07ca8ea"
      },
      "source": [
        "print(\"There are {} unique headline in this dataset such as: \\n\\n{}...\".format(len(df_fake.headline.unique()),\n",
        "                                                                           \"\\n\\n\".join(df_fake.headline.unique()[0:5])))"
      ],
      "execution_count": null,
      "outputs": [
        {
          "output_type": "stream",
          "text": [
            "There are 17931 unique headline in this dataset such as: \n",
            "\n",
            "Ethics Questions Dogged Agriculture Nominee as Georgia Governor - The New York Times\n",
            "\n",
            "U.S. Must Dig Deep to Stop Argentina’s Lionel Messi - The New York Times\n",
            "\n",
            "Cotton to House: ’Do Not Walk the Plank and Vote for a Bill that Cannot Pass the Senate’ - Breitbart\n",
            "\n",
            "Paul LePage, Besieged Maine Governor, Sends Conflicting Signals Over Intentions - The New York Times\n",
            "\n",
            "A Digital 9/11 If Trump Wins...\n"
          ],
          "name": "stdout"
        }
      ]
    },
    {
      "cell_type": "code",
      "metadata": {
        "id": "VLoLyz25ibx7",
        "colab": {
          "base_uri": "https://localhost:8080/"
        },
        "outputId": "3785b97e-1522-476d-cb5f-acb5080b40dd"
      },
      "source": [
        "#Checking the number of uniquue news\n",
        "print(\"The unique number of news is:\",(df_fake.news.nunique()))"
      ],
      "execution_count": null,
      "outputs": [
        {
          "output_type": "stream",
          "text": [
            "The unique number of news is: 18017\n"
          ],
          "name": "stdout"
        }
      ]
    },
    {
      "cell_type": "code",
      "metadata": {
        "id": "UqUmKlTHiwT3",
        "colab": {
          "base_uri": "https://localhost:8080/"
        },
        "outputId": "af16c972-54d6-4f51-86a4-2ab6a6eba802"
      },
      "source": [
        "#Checking the number of written_by\n",
        "print(\"The unique number of written_by is:\",(df_fake.written_by.nunique()))"
      ],
      "execution_count": null,
      "outputs": [
        {
          "output_type": "stream",
          "text": [
            "The unique number of written_by is: 3838\n"
          ],
          "name": "stdout"
        }
      ]
    },
    {
      "cell_type": "code",
      "metadata": {
        "id": "YU3vR-BVjIi2"
      },
      "source": [
        "#Observation:\n",
        "#There are 17931 headlines and 18017 news article present in datasets.it shows that some duplicate article present in our datasets."
      ],
      "execution_count": null,
      "outputs": []
    },
    {
      "cell_type": "code",
      "metadata": {
        "id": "6_wchyN2jrKi"
      },
      "source": [
        "#Checking the distribution of the tabels\n",
        "print(\"Count of Real and Fake News:\\n\",df_fake.label.value_counts())\n"
      ],
      "execution_count": null,
      "outputs": []
    },
    {
      "cell_type": "code",
      "metadata": {
        "id": "t3yXE5vpkGe2"
      },
      "source": [
        "#The Maximum null values present in label 1 so it is  fakenews"
      ],
      "execution_count": null,
      "outputs": []
    },
    {
      "cell_type": "markdown",
      "metadata": {
        "id": "NnuC897MA9aI"
      },
      "source": [
        "#####The Maximum null values present in label 1 so it is  fakenews"
      ]
    },
    {
      "cell_type": "markdown",
      "metadata": {
        "id": "ykw86Jq5BNRX"
      },
      "source": [
        "###1 stand for fake and 0 stand  for real news"
      ]
    },
    {
      "cell_type": "code",
      "metadata": {
        "id": "-PFIbf0iCvmb",
        "colab": {
          "base_uri": "https://localhost:8080/"
        },
        "outputId": "4b122716-5c22-4e0d-c003-7c5616296fb3"
      },
      "source": [
        "#Checking the ratio of labels\n",
        "print(\"Real News Ratio:\",round(len(df_fake[df_fake[\"label\"]==0])/len(df_fake[\"label\"]),3)*100,\"%\")\n",
        "print(\"Fake News Ratio:\",round(len(df_fake[df_fake[\"label\"]==1])/len(df_fake[\"label\"]),3)*100,\"%\")"
      ],
      "execution_count": null,
      "outputs": [
        {
          "output_type": "stream",
          "text": [
            "Real News Ratio: 56.699999999999996 %\n",
            "Fake News Ratio: 43.3 %\n"
          ],
          "name": "stdout"
        }
      ]
    },
    {
      "cell_type": "code",
      "metadata": {
        "id": "Hm4j9Rd3IsWj",
        "colab": {
          "base_uri": "https://localhost:8080/",
          "height": 204
        },
        "outputId": "79615818-f647-444d-fda1-5ca2199f10ae"
      },
      "source": [
        "#Creating the copy of dataset to reference\n",
        "news=df_fake.copy()\n",
        "df_fake.head()"
      ],
      "execution_count": 6,
      "outputs": [
        {
          "output_type": "execute_result",
          "data": {
            "text/html": [
              "<div>\n",
              "<style scoped>\n",
              "    .dataframe tbody tr th:only-of-type {\n",
              "        vertical-align: middle;\n",
              "    }\n",
              "\n",
              "    .dataframe tbody tr th {\n",
              "        vertical-align: top;\n",
              "    }\n",
              "\n",
              "    .dataframe thead th {\n",
              "        text-align: right;\n",
              "    }\n",
              "</style>\n",
              "<table border=\"1\" class=\"dataframe\">\n",
              "  <thead>\n",
              "    <tr style=\"text-align: right;\">\n",
              "      <th></th>\n",
              "      <th>id</th>\n",
              "      <th>headline</th>\n",
              "      <th>written_by</th>\n",
              "      <th>news</th>\n",
              "      <th>label</th>\n",
              "    </tr>\n",
              "  </thead>\n",
              "  <tbody>\n",
              "    <tr>\n",
              "      <th>0</th>\n",
              "      <td>9653</td>\n",
              "      <td>Ethics Questions Dogged Agriculture Nominee as...</td>\n",
              "      <td>Eric Lipton and Steve Eder</td>\n",
              "      <td>WASHINGTON  —   In Sonny Perdue’s telling, Geo...</td>\n",
              "      <td>0</td>\n",
              "    </tr>\n",
              "    <tr>\n",
              "      <th>1</th>\n",
              "      <td>10041</td>\n",
              "      <td>U.S. Must Dig Deep to Stop Argentina’s Lionel ...</td>\n",
              "      <td>David Waldstein</td>\n",
              "      <td>HOUSTON  —   Venezuela had a plan. It was a ta...</td>\n",
              "      <td>0</td>\n",
              "    </tr>\n",
              "    <tr>\n",
              "      <th>2</th>\n",
              "      <td>19113</td>\n",
              "      <td>Cotton to House: ’Do Not Walk the Plank and Vo...</td>\n",
              "      <td>Pam Key</td>\n",
              "      <td>Sunday on ABC’s “This Week,” while discussing ...</td>\n",
              "      <td>0</td>\n",
              "    </tr>\n",
              "    <tr>\n",
              "      <th>3</th>\n",
              "      <td>6868</td>\n",
              "      <td>Paul LePage, Besieged Maine Governor, Sends Co...</td>\n",
              "      <td>Jess Bidgood</td>\n",
              "      <td>AUGUSTA, Me.  —   The beleaguered Republican g...</td>\n",
              "      <td>0</td>\n",
              "    </tr>\n",
              "    <tr>\n",
              "      <th>4</th>\n",
              "      <td>7596</td>\n",
              "      <td>A Digital 9/11 If Trump Wins</td>\n",
              "      <td>Finian Cunningham</td>\n",
              "      <td>Finian Cunningham has written extensively on...</td>\n",
              "      <td>1</td>\n",
              "    </tr>\n",
              "  </tbody>\n",
              "</table>\n",
              "</div>"
            ],
            "text/plain": [
              "      id                                           headline  \\\n",
              "0   9653  Ethics Questions Dogged Agriculture Nominee as...   \n",
              "1  10041  U.S. Must Dig Deep to Stop Argentina’s Lionel ...   \n",
              "2  19113  Cotton to House: ’Do Not Walk the Plank and Vo...   \n",
              "3   6868  Paul LePage, Besieged Maine Governor, Sends Co...   \n",
              "4   7596                       A Digital 9/11 If Trump Wins   \n",
              "\n",
              "                   written_by  \\\n",
              "0  Eric Lipton and Steve Eder   \n",
              "1             David Waldstein   \n",
              "2                     Pam Key   \n",
              "3                Jess Bidgood   \n",
              "4           Finian Cunningham   \n",
              "\n",
              "                                                news  label  \n",
              "0  WASHINGTON  —   In Sonny Perdue’s telling, Geo...      0  \n",
              "1  HOUSTON  —   Venezuela had a plan. It was a ta...      0  \n",
              "2  Sunday on ABC’s “This Week,” while discussing ...      0  \n",
              "3  AUGUSTA, Me.  —   The beleaguered Republican g...      0  \n",
              "4    Finian Cunningham has written extensively on...      1  "
            ]
          },
          "metadata": {
            "tags": []
          },
          "execution_count": 6
        }
      ]
    },
    {
      "cell_type": "code",
      "metadata": {
        "id": "hRIe_V8YJ1Ow",
        "colab": {
          "base_uri": "https://localhost:8080/",
          "height": 204
        },
        "outputId": "f084ce22-947c-412e-ea6d-ee98245f8934"
      },
      "source": [
        "#Resetting the index\n",
        "df_fake.reset_index(inplace=True)\n",
        "df_fake.head()"
      ],
      "execution_count": 7,
      "outputs": [
        {
          "output_type": "execute_result",
          "data": {
            "text/html": [
              "<div>\n",
              "<style scoped>\n",
              "    .dataframe tbody tr th:only-of-type {\n",
              "        vertical-align: middle;\n",
              "    }\n",
              "\n",
              "    .dataframe tbody tr th {\n",
              "        vertical-align: top;\n",
              "    }\n",
              "\n",
              "    .dataframe thead th {\n",
              "        text-align: right;\n",
              "    }\n",
              "</style>\n",
              "<table border=\"1\" class=\"dataframe\">\n",
              "  <thead>\n",
              "    <tr style=\"text-align: right;\">\n",
              "      <th></th>\n",
              "      <th>index</th>\n",
              "      <th>id</th>\n",
              "      <th>headline</th>\n",
              "      <th>written_by</th>\n",
              "      <th>news</th>\n",
              "      <th>label</th>\n",
              "    </tr>\n",
              "  </thead>\n",
              "  <tbody>\n",
              "    <tr>\n",
              "      <th>0</th>\n",
              "      <td>0</td>\n",
              "      <td>9653</td>\n",
              "      <td>Ethics Questions Dogged Agriculture Nominee as...</td>\n",
              "      <td>Eric Lipton and Steve Eder</td>\n",
              "      <td>WASHINGTON  —   In Sonny Perdue’s telling, Geo...</td>\n",
              "      <td>0</td>\n",
              "    </tr>\n",
              "    <tr>\n",
              "      <th>1</th>\n",
              "      <td>1</td>\n",
              "      <td>10041</td>\n",
              "      <td>U.S. Must Dig Deep to Stop Argentina’s Lionel ...</td>\n",
              "      <td>David Waldstein</td>\n",
              "      <td>HOUSTON  —   Venezuela had a plan. It was a ta...</td>\n",
              "      <td>0</td>\n",
              "    </tr>\n",
              "    <tr>\n",
              "      <th>2</th>\n",
              "      <td>2</td>\n",
              "      <td>19113</td>\n",
              "      <td>Cotton to House: ’Do Not Walk the Plank and Vo...</td>\n",
              "      <td>Pam Key</td>\n",
              "      <td>Sunday on ABC’s “This Week,” while discussing ...</td>\n",
              "      <td>0</td>\n",
              "    </tr>\n",
              "    <tr>\n",
              "      <th>3</th>\n",
              "      <td>3</td>\n",
              "      <td>6868</td>\n",
              "      <td>Paul LePage, Besieged Maine Governor, Sends Co...</td>\n",
              "      <td>Jess Bidgood</td>\n",
              "      <td>AUGUSTA, Me.  —   The beleaguered Republican g...</td>\n",
              "      <td>0</td>\n",
              "    </tr>\n",
              "    <tr>\n",
              "      <th>4</th>\n",
              "      <td>4</td>\n",
              "      <td>7596</td>\n",
              "      <td>A Digital 9/11 If Trump Wins</td>\n",
              "      <td>Finian Cunningham</td>\n",
              "      <td>Finian Cunningham has written extensively on...</td>\n",
              "      <td>1</td>\n",
              "    </tr>\n",
              "  </tbody>\n",
              "</table>\n",
              "</div>"
            ],
            "text/plain": [
              "   index     id                                           headline  \\\n",
              "0      0   9653  Ethics Questions Dogged Agriculture Nominee as...   \n",
              "1      1  10041  U.S. Must Dig Deep to Stop Argentina’s Lionel ...   \n",
              "2      2  19113  Cotton to House: ’Do Not Walk the Plank and Vo...   \n",
              "3      3   6868  Paul LePage, Besieged Maine Governor, Sends Co...   \n",
              "4      4   7596                       A Digital 9/11 If Trump Wins   \n",
              "\n",
              "                   written_by  \\\n",
              "0  Eric Lipton and Steve Eder   \n",
              "1             David Waldstein   \n",
              "2                     Pam Key   \n",
              "3                Jess Bidgood   \n",
              "4           Finian Cunningham   \n",
              "\n",
              "                                                news  label  \n",
              "0  WASHINGTON  —   In Sonny Perdue’s telling, Geo...      0  \n",
              "1  HOUSTON  —   Venezuela had a plan. It was a ta...      0  \n",
              "2  Sunday on ABC’s “This Week,” while discussing ...      0  \n",
              "3  AUGUSTA, Me.  —   The beleaguered Republican g...      0  \n",
              "4    Finian Cunningham has written extensively on...      1  "
            ]
          },
          "metadata": {
            "tags": []
          },
          "execution_count": 7
        }
      ]
    },
    {
      "cell_type": "code",
      "metadata": {
        "id": "eYsrJfxbKOEP",
        "colab": {
          "base_uri": "https://localhost:8080/",
          "height": 204
        },
        "outputId": "3389a592-3377-4eb7-9cd5-a07e3f9760cb"
      },
      "source": [
        "#Creating the new column before cleaning the news columns\n",
        "df_fake[\"news_length\"]=df_fake[\"news\"].str.len()\n",
        "df_fake.head()"
      ],
      "execution_count": 8,
      "outputs": [
        {
          "output_type": "execute_result",
          "data": {
            "text/html": [
              "<div>\n",
              "<style scoped>\n",
              "    .dataframe tbody tr th:only-of-type {\n",
              "        vertical-align: middle;\n",
              "    }\n",
              "\n",
              "    .dataframe tbody tr th {\n",
              "        vertical-align: top;\n",
              "    }\n",
              "\n",
              "    .dataframe thead th {\n",
              "        text-align: right;\n",
              "    }\n",
              "</style>\n",
              "<table border=\"1\" class=\"dataframe\">\n",
              "  <thead>\n",
              "    <tr style=\"text-align: right;\">\n",
              "      <th></th>\n",
              "      <th>index</th>\n",
              "      <th>id</th>\n",
              "      <th>headline</th>\n",
              "      <th>written_by</th>\n",
              "      <th>news</th>\n",
              "      <th>label</th>\n",
              "      <th>news_length</th>\n",
              "    </tr>\n",
              "  </thead>\n",
              "  <tbody>\n",
              "    <tr>\n",
              "      <th>0</th>\n",
              "      <td>0</td>\n",
              "      <td>9653</td>\n",
              "      <td>Ethics Questions Dogged Agriculture Nominee as...</td>\n",
              "      <td>Eric Lipton and Steve Eder</td>\n",
              "      <td>WASHINGTON  —   In Sonny Perdue’s telling, Geo...</td>\n",
              "      <td>0</td>\n",
              "      <td>7936</td>\n",
              "    </tr>\n",
              "    <tr>\n",
              "      <th>1</th>\n",
              "      <td>1</td>\n",
              "      <td>10041</td>\n",
              "      <td>U.S. Must Dig Deep to Stop Argentina’s Lionel ...</td>\n",
              "      <td>David Waldstein</td>\n",
              "      <td>HOUSTON  —   Venezuela had a plan. It was a ta...</td>\n",
              "      <td>0</td>\n",
              "      <td>6112</td>\n",
              "    </tr>\n",
              "    <tr>\n",
              "      <th>2</th>\n",
              "      <td>2</td>\n",
              "      <td>19113</td>\n",
              "      <td>Cotton to House: ’Do Not Walk the Plank and Vo...</td>\n",
              "      <td>Pam Key</td>\n",
              "      <td>Sunday on ABC’s “This Week,” while discussing ...</td>\n",
              "      <td>0</td>\n",
              "      <td>425</td>\n",
              "    </tr>\n",
              "    <tr>\n",
              "      <th>3</th>\n",
              "      <td>3</td>\n",
              "      <td>6868</td>\n",
              "      <td>Paul LePage, Besieged Maine Governor, Sends Co...</td>\n",
              "      <td>Jess Bidgood</td>\n",
              "      <td>AUGUSTA, Me.  —   The beleaguered Republican g...</td>\n",
              "      <td>0</td>\n",
              "      <td>6516</td>\n",
              "    </tr>\n",
              "    <tr>\n",
              "      <th>4</th>\n",
              "      <td>4</td>\n",
              "      <td>7596</td>\n",
              "      <td>A Digital 9/11 If Trump Wins</td>\n",
              "      <td>Finian Cunningham</td>\n",
              "      <td>Finian Cunningham has written extensively on...</td>\n",
              "      <td>1</td>\n",
              "      <td>9164</td>\n",
              "    </tr>\n",
              "  </tbody>\n",
              "</table>\n",
              "</div>"
            ],
            "text/plain": [
              "   index     id                                           headline  \\\n",
              "0      0   9653  Ethics Questions Dogged Agriculture Nominee as...   \n",
              "1      1  10041  U.S. Must Dig Deep to Stop Argentina’s Lionel ...   \n",
              "2      2  19113  Cotton to House: ’Do Not Walk the Plank and Vo...   \n",
              "3      3   6868  Paul LePage, Besieged Maine Governor, Sends Co...   \n",
              "4      4   7596                       A Digital 9/11 If Trump Wins   \n",
              "\n",
              "                   written_by  \\\n",
              "0  Eric Lipton and Steve Eder   \n",
              "1             David Waldstein   \n",
              "2                     Pam Key   \n",
              "3                Jess Bidgood   \n",
              "4           Finian Cunningham   \n",
              "\n",
              "                                                news  label  news_length  \n",
              "0  WASHINGTON  —   In Sonny Perdue’s telling, Geo...      0         7936  \n",
              "1  HOUSTON  —   Venezuela had a plan. It was a ta...      0         6112  \n",
              "2  Sunday on ABC’s “This Week,” while discussing ...      0          425  \n",
              "3  AUGUSTA, Me.  —   The beleaguered Republican g...      0         6516  \n",
              "4    Finian Cunningham has written extensively on...      1         9164  "
            ]
          },
          "metadata": {
            "tags": []
          },
          "execution_count": 8
        }
      ]
    },
    {
      "cell_type": "markdown",
      "metadata": {
        "id": "Ds02X6ZBLcNh"
      },
      "source": [
        "### Data Cleaning Steps\n",
        "1]Remove stopwords\n",
        "2]Remove HTML tags\n",
        "3]Remove Special Charcters\n",
        "4]Convert Everything to lowercase\n",
        "5]Stemming"
      ]
    },
    {
      "cell_type": "markdown",
      "metadata": {
        "id": "61_agTFLMK5B"
      },
      "source": [
        "##Procedding to perform Natural Language Processing"
      ]
    },
    {
      "cell_type": "code",
      "metadata": {
        "id": "zTiPPSCuMdL9",
        "colab": {
          "base_uri": "https://localhost:8080/"
        },
        "outputId": "a49f94bc-5023-4cf8-f481-54c736effc95"
      },
      "source": [
        "#Importing NLP librarirs\n",
        "import nltk\n",
        "import string\n",
        "from nltk.corpus import stopwords\n",
        "import re \n",
        "nltk.download('stopwords')\n"
      ],
      "execution_count": 9,
      "outputs": [
        {
          "output_type": "stream",
          "text": [
            "[nltk_data] Downloading package stopwords to /root/nltk_data...\n",
            "[nltk_data]   Package stopwords is already up-to-date!\n"
          ],
          "name": "stdout"
        },
        {
          "output_type": "execute_result",
          "data": {
            "text/plain": [
              "True"
            ]
          },
          "metadata": {
            "tags": []
          },
          "execution_count": 9
        }
      ]
    },
    {
      "cell_type": "code",
      "metadata": {
        "id": "b9CNUik5M7af"
      },
      "source": [
        "#Replace email address with email\n",
        "df_fake[\"news\"]=df_fake[\"news\"].str.replace(r'^.+@[^\\.].*\\.[a-z]{2,}$',\n",
        "                                             \"emailaddress\")\n",
        "#Replace url with webaddress\n",
        "df_fake[\"news\"]=df_fake[\"news\"].str.replace(r'^http\\://[a-zA-Z0-9\\-\\.]+\\.[a-zA-Z]{2-3}(/\\S*)?$',\n",
        "                                            \"webaddress\")\n",
        "#Replace 10 digit phone number(format include parenthesis,space,nospace,dashes)with phonenumber\n",
        "df_fake[\"news\"]=df_fake[\"news\"].str.replace(r'^\\(?[\\d]{3}\\)?[\\s-]?[\\d]{4}$',\n",
        "                                            \"phonenumber\")\n",
        "#Replace number with numbers\n",
        "df_fake[\"news\"]=df_fake[\"news\"].str.replace(r'\\d+(\\.\\d+)?',\n",
        "                                            \"numbers\")"
      ],
      "execution_count": 10,
      "outputs": []
    },
    {
      "cell_type": "code",
      "metadata": {
        "id": "t2sNHuOWYDh9",
        "colab": {
          "base_uri": "https://localhost:8080/",
          "height": 137
        },
        "outputId": "60060a08-0d24-43f2-8e49-71614e1f03fe"
      },
      "source": [
        "df_fake[\"news\"][5]"
      ],
      "execution_count": null,
      "outputs": [
        {
          "output_type": "execute_result",
          "data": {
            "application/vnd.google.colaboratory.intrinsic+json": {
              "type": "string"
            },
            "text/plain": [
              "'The State of New Jersey says you can’t eat the fish or shellfish from the Lower Passaic River and Newark Bay. That’s because they’re living in the Diamond Alkali Superfund Site, where toxic leftovers from the manufacture of chemicals like DDT and the infamous Agent Orange oozed into surrounding waterways to be taken up by the animals that inhabited them. It’s an evolutionary miracle some of these animals are even alive. No, seriously. A fish that adapted to survive in this water shows evolution at its finest, according to a study published Thursday in Science. The Atlantic killifish is a slippery sliver of silver about the size of a fat finger and as common as the minnow. Starting in the late numberss, researchers became aware that the fish was tolerant of the toxic waters at the Lower Passaic Superfund site and at least three other highly polluted areas along the Atlantic coastline. The new study found that over just a few decades, distinct populations of killifish independently developed similar genetic adaptations that make life possible in the most unlikely environments. The findings show that evolution doesn’t have to start in one place to be repeated. “It’s these shared changes as well as the unique pattern of changes in these different populations that provide us with a really useful field example of how animals can respond to rapidly changing and extreme environments,” said Diane Nacci, a biologist at the Environmental Protection Agency who worked on the study. She and other researchers, led by Noah Reid, an evolutionary geneticist at the University of Connecticut, compared the whole genomes of numbers killifish from these areas and nearby,   waters. They found that in all regions, one particular genetic pathway was the source of the pollution tolerance, although slightly different patterns of genetic changes were responsible in each population. Normally, toxic chemicals like dioxins and polychlorinated biphenyls, or PCBs, set off a number of changes inside sensitive fish that interfere not just with the survival of adults, but also with the development of their embryos. But in the tolerant fish, the trigger for those changes is turned off, allowing some fish to survive levels of PCBs thousands of times higher than the levels affecting sensitive fish. The mutation occurred rather quickly. This speedy evolution was made possible, the researchers think, by the huge and genetically diverse killifish populations that may have harbored a rare mutation. “Whenever you have large population sizes, there’s a chance some might actually carry mutations on their genomes that are advantageous in novel environments, like pollution,” said Michael Tobler, an evolutionary ecologist at Kansas State University who was not involved in the study but wrote a complementary paper on the research for the same issue of Science. “Any that didn’t have this lucky mutation didn’t make it. ” Those that did reproduced, and so became the   Atlantic killifish. But in smaller populations with less diversity, the chance that a rare mutation like this already exists is slim: Evolution is put on hold until that mutation develops. This story “adds to the body of literatures suggesting that preserving genetic diversity within species might be important for buffering them against global climate change,” Dr. Reid said. But it’s not a mop for the pollutants we have imposed on our environment over the past century. “At first sight this study might tell us, well, it will all be fine,” Dr. Tobler said, addressing the argument that perhaps we need not worry if nature appears to be finding solutions on its own. “These killifish can do it, and there’s probably many species out there that can respond in this particular manner, but there’s probably going to be lots of species out there that can’t. ” Additionally, adaptations typically come at a cost. The story of evolution predicts that once the water becomes clean, a tolerant fish won’t do as well as a sensitive fish. What’s the consequence of turning off this pathway, which is responsible for dealing with toxicity at less extreme levels? Researchers are still looking for answers.'"
            ]
          },
          "metadata": {
            "tags": []
          },
          "execution_count": 22
        }
      ]
    },
    {
      "cell_type": "code",
      "metadata": {
        "id": "2z1I14iZYGK4"
      },
      "source": [
        "#Remove Puntuation\n",
        "df_fake[\"news\"]=df_fake[\"news\"].str.replace(r'[^\\w\\d\\s]',' ')\n",
        "#Replace WhiteSpace between term with single space\n",
        "df_fake[\"news\"]=df_fake[\"news\"].str.replace(r'\\s+',' ')\n",
        "#Remove leading and trailing whitespace\n",
        "df_fake[\"news\"]=df_fake[\"news\"].str.replace(r'^\\s+|\\s+?$',' ')\n"
      ],
      "execution_count": 11,
      "outputs": []
    },
    {
      "cell_type": "code",
      "metadata": {
        "id": "T9DkWkhLZprO",
        "colab": {
          "base_uri": "https://localhost:8080/",
          "height": 137
        },
        "outputId": "de06bd80-c69d-478a-a46f-b782b32f9fe6"
      },
      "source": [
        "df_fake[\"news\"][5]"
      ],
      "execution_count": null,
      "outputs": [
        {
          "output_type": "execute_result",
          "data": {
            "application/vnd.google.colaboratory.intrinsic+json": {
              "type": "string"
            },
            "text/plain": [
              "'The State of New Jersey says you can t eat the fish or shellfish from the Lower Passaic River and Newark Bay That s because they re living in the Diamond Alkali Superfund Site where toxic leftovers from the manufacture of chemicals like DDT and the infamous Agent Orange oozed into surrounding waterways to be taken up by the animals that inhabited them It s an evolutionary miracle some of these animals are even alive No seriously A fish that adapted to survive in this water shows evolution at its finest according to a study published Thursday in Science The Atlantic killifish is a slippery sliver of silver about the size of a fat finger and as common as the minnow Starting in the late numberss researchers became aware that the fish was tolerant of the toxic waters at the Lower Passaic Superfund site and at least three other highly polluted areas along the Atlantic coastline The new study found that over just a few decades distinct populations of killifish independently developed similar genetic adaptations that make life possible in the most unlikely environments The findings show that evolution doesn t have to start in one place to be repeated It s these shared changes as well as the unique pattern of changes in these different populations that provide us with a really useful field example of how animals can respond to rapidly changing and extreme environments said Diane Nacci a biologist at the Environmental Protection Agency who worked on the study She and other researchers led by Noah Reid an evolutionary geneticist at the University of Connecticut compared the whole genomes of numbers killifish from these areas and nearby waters They found that in all regions one particular genetic pathway was the source of the pollution tolerance although slightly different patterns of genetic changes were responsible in each population Normally toxic chemicals like dioxins and polychlorinated biphenyls or PCBs set off a number of changes inside sensitive fish that interfere not just with the survival of adults but also with the development of their embryos But in the tolerant fish the trigger for those changes is turned off allowing some fish to survive levels of PCBs thousands of times higher than the levels affecting sensitive fish The mutation occurred rather quickly This speedy evolution was made possible the researchers think by the huge and genetically diverse killifish populations that may have harbored a rare mutation Whenever you have large population sizes there s a chance some might actually carry mutations on their genomes that are advantageous in novel environments like pollution said Michael Tobler an evolutionary ecologist at Kansas State University who was not involved in the study but wrote a complementary paper on the research for the same issue of Science Any that didn t have this lucky mutation didn t make it Those that did reproduced and so became the Atlantic killifish But in smaller populations with less diversity the chance that a rare mutation like this already exists is slim Evolution is put on hold until that mutation develops This story adds to the body of literatures suggesting that preserving genetic diversity within species might be important for buffering them against global climate change Dr Reid said But it s not a mop for the pollutants we have imposed on our environment over the past century At first sight this study might tell us well it will all be fine Dr Tobler said addressing the argument that perhaps we need not worry if nature appears to be finding solutions on its own These killifish can do it and there s probably many species out there that can respond in this particular manner but there s probably going to be lots of species out there that can t Additionally adaptations typically come at a cost The story of evolution predicts that once the water becomes clean a tolerant fish won t do as well as a sensitive fish What s the consequence of turning off this pathway which is responsible for dealing with toxicity at less extreme levels Researchers are still looking for answers '"
            ]
          },
          "metadata": {
            "tags": []
          },
          "execution_count": 24
        }
      ]
    },
    {
      "cell_type": "code",
      "metadata": {
        "id": "JvMg3_-SZrX_"
      },
      "source": [
        "#Convert everything into lower case\n",
        "df_fake[\"news\"]=df_fake[\"news\"].str.lower()\n"
      ],
      "execution_count": 12,
      "outputs": []
    },
    {
      "cell_type": "code",
      "metadata": {
        "id": "DZl0n9sPaB83"
      },
      "source": [
        "#Remove stopwords\n",
        "stop_words=set(stopwords.words(\"english\") +[\"u\",\"O\",\"ur\",\"2\",\"4\",\"dont\",\"im\",\"doin\",\"ure\"])\n",
        "df_fake[\"news\"]=df_fake[\"news\"].apply(lambda x:' '.join(\n",
        "    term for term in x.split() if term not in stop_words))"
      ],
      "execution_count": 13,
      "outputs": []
    },
    {
      "cell_type": "code",
      "metadata": {
        "id": "r1Tfq_2_b6x2"
      },
      "source": [
        "#Stemming\n",
        "from nltk.stem import SnowballStemmer\n",
        "snowball=SnowballStemmer(\"english\")\n",
        "df_fake[\"news\"]=df_fake[\"news\"].apply(lambda x:' '.join(\n",
        "    snowball.stem(t)for t in x.split()))"
      ],
      "execution_count": 14,
      "outputs": []
    },
    {
      "cell_type": "code",
      "metadata": {
        "colab": {
          "base_uri": "https://localhost:8080/",
          "height": 137
        },
        "id": "n4tbfiMhdltz",
        "outputId": "d8f5096a-5fee-4cba-f060-27a75e9c1b28"
      },
      "source": [
        "df_fake['news'][5]"
      ],
      "execution_count": null,
      "outputs": [
        {
          "output_type": "execute_result",
          "data": {
            "application/vnd.google.colaboratory.intrinsic+json": {
              "type": "string"
            },
            "text/plain": [
              "'state new jersey say eat fish shellfish lower passaic river newark bay live diamond alkali superfund site toxic leftov manufactur chemic like ddt infam agent orang ooz surround waterway taken anim inhabit evolutionari miracl anim even aliv serious fish adapt surviv water show evolut finest accord studi publish thursday scienc atlant killifish slipperi sliver silver size fat finger common minnow start late numberss research becam awar fish toler toxic water lower passaic superfund site least three high pollut area along atlant coastlin new studi found decad distinct popul killifish independ develop similar genet adapt make life possibl unlik environ find show evolut start one place repeat share chang well uniqu pattern chang differ popul provid us realli use field exampl anim respond rapid chang extrem environ said dian nacci biologist environment protect agenc work studi research led noah reid evolutionari geneticist univers connecticut compar whole genom number killifish area nearbi water found region one particular genet pathway sourc pollut toler although slight differ pattern genet chang respons popul normal toxic chemic like dioxin polychlorin biphenyl pcbs set number chang insid sensit fish interfer surviv adult also develop embryo toler fish trigger chang turn allow fish surviv level pcbs thousand time higher level affect sensit fish mutat occur rather quick speedi evolut made possibl research think huge genet divers killifish popul may harbor rare mutat whenev larg popul size chanc might actual carri mutat genom advantag novel environ like pollut said michael tobler evolutionari ecologist kansa state univers involv studi wrote complementari paper research issu scienc lucki mutat make reproduc becam atlant killifish smaller popul less divers chanc rare mutat like alreadi exist slim evolut put hold mutat develop stori add bodi literatur suggest preserv genet divers within speci might import buffer global climat chang dr reid said mop pollut impos environ past centuri first sight studi might tell us well fine dr tobler said address argument perhap need worri natur appear find solut killifish probabl mani speci respond particular manner probabl go lot speci addit adapt typic come cost stori evolut predict water becom clean toler fish well sensit fish consequ turn pathway respons deal toxic less extrem level research still look answer'"
            ]
          },
          "metadata": {
            "tags": []
          },
          "execution_count": 28
        }
      ]
    },
    {
      "cell_type": "code",
      "metadata": {
        "id": "t-4CoAkYhseV"
      },
      "source": [
        "#Creating new column clean_length\n",
        "df_fake[\"clean_length\"]=df_fake.news.str.len()"
      ],
      "execution_count": 15,
      "outputs": []
    },
    {
      "cell_type": "code",
      "metadata": {
        "colab": {
          "base_uri": "https://localhost:8080/",
          "height": 204
        },
        "id": "t-knBBQCh9jJ",
        "outputId": "c035b41e-ef47-41f1-fb7b-ba99da0dc0c4"
      },
      "source": [
        "df_fake.head()"
      ],
      "execution_count": null,
      "outputs": [
        {
          "output_type": "execute_result",
          "data": {
            "text/html": [
              "<div>\n",
              "<style scoped>\n",
              "    .dataframe tbody tr th:only-of-type {\n",
              "        vertical-align: middle;\n",
              "    }\n",
              "\n",
              "    .dataframe tbody tr th {\n",
              "        vertical-align: top;\n",
              "    }\n",
              "\n",
              "    .dataframe thead th {\n",
              "        text-align: right;\n",
              "    }\n",
              "</style>\n",
              "<table border=\"1\" class=\"dataframe\">\n",
              "  <thead>\n",
              "    <tr style=\"text-align: right;\">\n",
              "      <th></th>\n",
              "      <th>index</th>\n",
              "      <th>id</th>\n",
              "      <th>headline</th>\n",
              "      <th>written_by</th>\n",
              "      <th>news</th>\n",
              "      <th>label</th>\n",
              "      <th>news_length</th>\n",
              "      <th>clean_length</th>\n",
              "    </tr>\n",
              "  </thead>\n",
              "  <tbody>\n",
              "    <tr>\n",
              "      <th>0</th>\n",
              "      <td>0</td>\n",
              "      <td>9653</td>\n",
              "      <td>Ethics Questions Dogged Agriculture Nominee as...</td>\n",
              "      <td>Eric Lipton and Steve Eder</td>\n",
              "      <td>washington sonni perdu tell georgian grow wear...</td>\n",
              "      <td>0</td>\n",
              "      <td>7936</td>\n",
              "      <td>4705</td>\n",
              "    </tr>\n",
              "    <tr>\n",
              "      <th>1</th>\n",
              "      <td>1</td>\n",
              "      <td>10041</td>\n",
              "      <td>U.S. Must Dig Deep to Stop Argentina’s Lionel ...</td>\n",
              "      <td>David Waldstein</td>\n",
              "      <td>houston venezuela plan tactic approach design ...</td>\n",
              "      <td>0</td>\n",
              "      <td>6112</td>\n",
              "      <td>3802</td>\n",
              "    </tr>\n",
              "    <tr>\n",
              "      <th>2</th>\n",
              "      <td>2</td>\n",
              "      <td>19113</td>\n",
              "      <td>Cotton to House: ’Do Not Walk the Plank and Vo...</td>\n",
              "      <td>Pam Key</td>\n",
              "      <td>sunday abc week discuss republican plan repeal...</td>\n",
              "      <td>0</td>\n",
              "      <td>425</td>\n",
              "      <td>245</td>\n",
              "    </tr>\n",
              "    <tr>\n",
              "      <th>3</th>\n",
              "      <td>3</td>\n",
              "      <td>6868</td>\n",
              "      <td>Paul LePage, Besieged Maine Governor, Sends Co...</td>\n",
              "      <td>Jess Bidgood</td>\n",
              "      <td>augusta beleagu republican governor main seem ...</td>\n",
              "      <td>0</td>\n",
              "      <td>6516</td>\n",
              "      <td>3821</td>\n",
              "    </tr>\n",
              "    <tr>\n",
              "      <th>4</th>\n",
              "      <td>4</td>\n",
              "      <td>7596</td>\n",
              "      <td>A Digital 9/11 If Trump Wins</td>\n",
              "      <td>Finian Cunningham</td>\n",
              "      <td>finian cunningham written extens intern affair...</td>\n",
              "      <td>1</td>\n",
              "      <td>9164</td>\n",
              "      <td>5851</td>\n",
              "    </tr>\n",
              "  </tbody>\n",
              "</table>\n",
              "</div>"
            ],
            "text/plain": [
              "   index     id                                           headline  \\\n",
              "0      0   9653  Ethics Questions Dogged Agriculture Nominee as...   \n",
              "1      1  10041  U.S. Must Dig Deep to Stop Argentina’s Lionel ...   \n",
              "2      2  19113  Cotton to House: ’Do Not Walk the Plank and Vo...   \n",
              "3      3   6868  Paul LePage, Besieged Maine Governor, Sends Co...   \n",
              "4      4   7596                       A Digital 9/11 If Trump Wins   \n",
              "\n",
              "                   written_by  \\\n",
              "0  Eric Lipton and Steve Eder   \n",
              "1             David Waldstein   \n",
              "2                     Pam Key   \n",
              "3                Jess Bidgood   \n",
              "4           Finian Cunningham   \n",
              "\n",
              "                                                news  label  news_length  \\\n",
              "0  washington sonni perdu tell georgian grow wear...      0         7936   \n",
              "1  houston venezuela plan tactic approach design ...      0         6112   \n",
              "2  sunday abc week discuss republican plan repeal...      0          425   \n",
              "3  augusta beleagu republican governor main seem ...      0         6516   \n",
              "4  finian cunningham written extens intern affair...      1         9164   \n",
              "\n",
              "   clean_length  \n",
              "0          4705  \n",
              "1          3802  \n",
              "2           245  \n",
              "3          3821  \n",
              "4          5851  "
            ]
          },
          "metadata": {
            "tags": []
          },
          "execution_count": 55
        }
      ]
    },
    {
      "cell_type": "code",
      "metadata": {
        "colab": {
          "base_uri": "https://localhost:8080/"
        },
        "id": "gDKiidJwiAzY",
        "outputId": "7efb8a57-b92b-4bfe-d3bf-bb5a778b668d"
      },
      "source": [
        "#Total length removal\n",
        "print(\"Original length:\",df_fake.news_length.sum())\n",
        "print(\"Clean Length:\",df_fake.clean_length.sum())\n",
        "print(\"Total Words Removed:\",(df_fake.news_length.sum())-(df_fake.clean_length.sum()))"
      ],
      "execution_count": null,
      "outputs": [
        {
          "output_type": "stream",
          "text": [
            "Original length: 87771325\n",
            "Clean Length: 53296551\n",
            "Total Words Removed: 34474774\n"
          ],
          "name": "stdout"
        }
      ]
    },
    {
      "cell_type": "code",
      "metadata": {
        "colab": {
          "base_uri": "https://localhost:8080/",
          "height": 562
        },
        "id": "RugVWPbfkQXV",
        "outputId": "66a7bc85-1040-4c73-cc13-df7f116b33d3"
      },
      "source": [
        "#Plotting the count plot\n",
        "plt.figure(figsize=(10,8))\n",
        "sns.countplot(df_fake[\"label\"],palette='crest_r')\n",
        "plt.title('Count the Label',fontsize=10)\n",
        "plt.xticks(rotation='horizontal')\n",
        "plt.show()\n",
        "\n",
        "print(df_fake[\"label\"].value_counts())"
      ],
      "execution_count": null,
      "outputs": [
        {
          "output_type": "display_data",
          "data": {
            "image/png": "[encoded data removed]",
            "text/plain": [
              "<Figure size 720x576 with 1 Axes>"
            ]
          },
          "metadata": {
            "tags": [],
            "needs_background": "light"
          }
        },
        {
          "output_type": "stream",
          "text": [
            "0    10361\n",
            "1     7924\n",
            "Name: label, dtype: int64\n"
          ],
          "name": "stdout"
        }
      ]
    },
    {
      "cell_type": "code",
      "metadata": {
        "colab": {
          "base_uri": "https://localhost:8080/",
          "height": 388
        },
        "id": "-GEzWJtjlJqf",
        "outputId": "7f16ab12-d7ac-46df-9827-91049dd04f10"
      },
      "source": [
        "#Ploting the distribution length before cleaning\n",
        "f,ax=plt.subplots(1,2,figsize=(12,6))\n",
        "\n",
        "sns.distplot(df_fake[df_fake['label']==1]['news_length'],bins=20, ax=ax[0],label='Fake News Distribution',color='b')\n",
        "ax[0].set_xlabel('Fake News Length')\n",
        "ax[0].legend()\n",
        "\n",
        "sns.distplot(df_fake[df_fake['label']==0]['news_length'],bins=20,ax=ax[1],label='Real News Distribution',color='g')\n",
        "ax[1].set_xlabel('Real News Length')\n",
        "ax[1].legend()\n",
        "\n",
        "plt.show()"
      ],
      "execution_count": null,
      "outputs": [
        {
          "output_type": "display_data",
          "data": {
            "image/png": "[encoded data removed]",
            "text/plain": [
              "<Figure size 864x432 with 2 Axes>"
            ]
          },
          "metadata": {
            "tags": [],
            "needs_background": "light"
          }
        }
      ]
    },
    {
      "cell_type": "code",
      "metadata": {
        "colab": {
          "base_uri": "https://localhost:8080/",
          "height": 388
        },
        "id": "jnujo7q8oHgY",
        "outputId": "8449539f-1665-4a1b-d1f9-4e9fc2751427"
      },
      "source": [
        "#Ploting the distribution after cleaning news\n",
        "f,ax=plt.subplots(1,2,figsize=(12,6))\n",
        "\n",
        "sns.distplot(df_fake[df_fake['label']==1]['clean_length'],bins=20,ax=ax[0],label='Fake News Distribution',color='b')\n",
        "ax[0].set_xlabel('Fake News Length')\n",
        "ax[0].legend()\n",
        "\n",
        "sns.distplot(df_fake[df_fake['label']==0]['clean_length'],bins=20,ax=ax[1],label='Real News Distribution',color='g')\n",
        "ax[1].set_xlabel('Real News Length')\n",
        "ax[1].legend()\n",
        "plt.show()"
      ],
      "execution_count": null,
      "outputs": [
        {
          "output_type": "display_data",
          "data": {
            "image/png": "[encoded data removed]",
            "text/plain": [
              "<Figure size 864x432 with 2 Axes>"
            ]
          },
          "metadata": {
            "tags": [],
            "needs_background": "light"
          }
        }
      ]
    },
    {
      "cell_type": "code",
      "metadata": {
        "id": "Kw4PkZYinCFo"
      },
      "source": [
        "#Getting sense of loud words in fake news \n",
        "from wordcloud import WordCloud\n",
        "\n",
        "spams=df_fake['news'] [df_fake['label']==1]\n",
        "spam_cloud=WordCloud(width=700,height=500,background_color='grey',max_words=60).generate(' '.join(spams))\n",
        "plt.figure(figsize=(10,8),facecolor='b')\n",
        "plt.imshow(spam_cloud)\n",
        "plt.axis('off')\n",
        "plt.tight_layout(pad=0)\n",
        "plt.show()"
      ],
      "execution_count": null,
      "outputs": []
    },
    {
      "cell_type": "code",
      "metadata": {
        "colab": {
          "background_save": true
        },
        "id": "OyV97RRWrxa_",
        "outputId": "95b41f9d-9a3c-49f9-8dfd-748348914b9e"
      },
      "source": [
        "#Getting sense of loud words in real new\n",
        "from wordcloud import WordCloud\n",
        "not_spam=df_fake['news'][df_fake['label']==0]\n",
        "spam_cloud=WordCloud(width=700,height=500,background_color='black',max_words=50).generate(' '.join(not_spam))\n",
        "plt.figure(figsize=(10,8),facecolor='b')\n",
        "plt.imshow(spam_cloud)\n",
        "plt.axis('off')\n",
        "plt.tight_layout(pad=0)\n",
        "plt.show()"
      ],
      "execution_count": null,
      "outputs": [
        {
          "output_type": "display_data",
          "data": {
            "image/png": "[encoded data removed]",
            "text/plain": [
              "<Figure size 720x576 with 1 Axes>"
            ]
          },
          "metadata": {
            "tags": []
          }
        }
      ]
    },
    {
      "cell_type": "markdown",
      "metadata": {
        "id": "kUFHu0m3xEpG"
      },
      "source": [
        "### Convert the text into vector using Tf-idfVectorizer"
      ]
    },
    {
      "cell_type": "code",
      "metadata": {
        "id": "MoUrHcdlxTrV"
      },
      "source": [
        "from sklearn.feature_extraction.text import TfidfVectorizer\n",
        "tf=TfidfVectorizer(max_features=1000,ngram_range=(1,1))\n",
        "X=tf.fit_transform(df_fake['news'])"
      ],
      "execution_count": 16,
      "outputs": []
    },
    {
      "cell_type": "code",
      "metadata": {
        "colab": {
          "base_uri": "https://localhost:8080/"
        },
        "id": "NjRRwx8EzSQw",
        "outputId": "50e48e5e-f875-4795-ad34-7dd9976a0178"
      },
      "source": [
        "X.shape"
      ],
      "execution_count": null,
      "outputs": [
        {
          "output_type": "execute_result",
          "data": {
            "text/plain": [
              "(18285, 1000)"
            ]
          },
          "metadata": {
            "tags": []
          },
          "execution_count": 31
        }
      ]
    },
    {
      "cell_type": "code",
      "metadata": {
        "id": "5klBEcUOzXb8"
      },
      "source": [
        "y=df_fake['news']"
      ],
      "execution_count": 17,
      "outputs": []
    },
    {
      "cell_type": "code",
      "metadata": {
        "id": "Hm5DFD9VzcMs"
      },
      "source": [
        "#Split thed dataset into train test split\n",
        "from sklearn.model_selection import train_test_split\n",
        "X_train,X_test,y_train,y_test=train_test_split(X,y,test_size=.33,random_state=0)"
      ],
      "execution_count": 18,
      "outputs": []
    },
    {
      "cell_type": "code",
      "metadata": {
        "colab": {
          "base_uri": "https://localhost:8080/"
        },
        "id": "3RsH271Y0Ika",
        "outputId": "8df68dd7-babd-41f8-ff3b-5a748c9c55b5"
      },
      "source": [
        "print(X_train.shape)\n",
        "print(X_test.shape)\n",
        "\n",
        "print(y_train.shape)\n",
        "print(y_test.shape)"
      ],
      "execution_count": null,
      "outputs": [
        {
          "output_type": "stream",
          "text": [
            "(12250, 1000)\n",
            "(6035, 1000)\n",
            "(12250,)\n",
            "(6035,)\n"
          ],
          "name": "stdout"
        }
      ]
    },
    {
      "cell_type": "code",
      "metadata": {
        "colab": {
          "base_uri": "https://localhost:8080/"
        },
        "id": "18U6qbZ00b5k",
        "outputId": "62b48417-e036-405e-f08e-aa1fe0b60291"
      },
      "source": [
        "tf.get_feature_names()[:20]"
      ],
      "execution_count": null,
      "outputs": [
        {
          "output_type": "execute_result",
          "data": {
            "text/plain": [
              "['_____',\n",
              " 'abl',\n",
              " 'abus',\n",
              " 'accept',\n",
              " 'access',\n",
              " 'accord',\n",
              " 'account',\n",
              " 'accus',\n",
              " 'across',\n",
              " 'act',\n",
              " 'action',\n",
              " 'activ',\n",
              " 'activist',\n",
              " 'actual',\n",
              " 'ad',\n",
              " 'addit',\n",
              " 'address',\n",
              " 'administr',\n",
              " 'advanc',\n",
              " 'advis']"
            ]
          },
          "metadata": {
            "tags": []
          },
          "execution_count": 67
        }
      ]
    },
    {
      "cell_type": "code",
      "metadata": {
        "colab": {
          "base_uri": "https://localhost:8080/"
        },
        "id": "FCljXMIu0oL0",
        "outputId": "022861ec-8102-4ed3-e6cc-a7bac5d8d6ce"
      },
      "source": [
        "tf.get_params()"
      ],
      "execution_count": null,
      "outputs": [
        {
          "output_type": "execute_result",
          "data": {
            "text/plain": [
              "{'analyzer': 'word',\n",
              " 'binary': False,\n",
              " 'decode_error': 'strict',\n",
              " 'dtype': numpy.float64,\n",
              " 'encoding': 'utf-8',\n",
              " 'input': 'content',\n",
              " 'lowercase': True,\n",
              " 'max_df': 1.0,\n",
              " 'max_features': 1000,\n",
              " 'min_df': 1,\n",
              " 'ngram_range': (1, 1),\n",
              " 'norm': 'l2',\n",
              " 'preprocessor': None,\n",
              " 'smooth_idf': True,\n",
              " 'stop_words': None,\n",
              " 'strip_accents': None,\n",
              " 'sublinear_tf': False,\n",
              " 'token_pattern': '(?u)\\\\b\\\\w\\\\w+\\\\b',\n",
              " 'tokenizer': None,\n",
              " 'use_idf': True,\n",
              " 'vocabulary': None}"
            ]
          },
          "metadata": {
            "tags": []
          },
          "execution_count": 68
        }
      ]
    },
    {
      "cell_type": "markdown",
      "metadata": {
        "id": "hOPWSnHl2Miu"
      },
      "source": [
        "#MultinomialNB"
      ]
    },
    {
      "cell_type": "code",
      "metadata": {
        "id": "Tymy9D1D2T1d"
      },
      "source": [
        "from sklearn.naive_bayes import MultinomialNB\n",
        "from sklearn.metrics import accuracy_score,confusion_matrix,classification_report"
      ],
      "execution_count": 21,
      "outputs": []
    },
    {
      "cell_type": "code",
      "metadata": {
        "id": "u_rlNuqb2xzn"
      },
      "source": [
        "nb=MultinomialNB()\n",
        "nb.fit(X_train,y_train)\n",
        "prednb=nb.predict(x_test)\n",
        "print(confusion_matrix(y_test,prednb))\n",
        "print(accuracy_score(y_test,prednb))\n",
        "print(classification_report(y_test,prednb))\n"
      ],
      "execution_count": null,
      "outputs": []
    },
    {
      "cell_type": "markdown",
      "metadata": {
        "id": "WClg_8X3nwj6"
      },
      "source": [
        "\n",
        "##Passive Aggressive Classifier Algorithm"
      ]
    },
    {
      "cell_type": "code",
      "metadata": {
        "id": "zyA8S0nQn5C8"
      },
      "source": [
        "\n",
        "# Importing the Linrary\n",
        "from sklearn.linear_model import PassiveAggressiveClassifier\n",
        "pac = PassiveAggressiveClassifier( validation_fraction=0.25,C=3, max_iter=1000, random_state=42, \n",
        "                                   n_iter_no_change=8,\n",
        "                                   shuffle=True,\n",
        "                                   loss='hinge',\n",
        "                                   n_jobs=-1)\n",
        "\n",
        "#Training the model\n",
        "pac.fit(X_train,y_train)\n",
        "\n",
        "#Makeing prediction\n",
        "pred = pac.predict(X_test)\n",
        "\n",
        "#Accuracy\n",
        "score = accuracy_score(y_test,pred)\n",
        "print(\"Accuracy: %0.3f\" %score)\n",
        "\n",
        "#Confusion Matrix\n",
        "cm = confusion_matrix(y_test,pred)\n",
        "print('\\n',cm)\n",
        "\n",
        "# plot confusion matrix heatmap\n",
        "conf_mat = confusion_matrix(y_test,pred)\n",
        "\n",
        "ax=plt.subplot()\n",
        "\n",
        "sns.heatmap(conf_mat,annot=True,ax=ax,linewidths=5,linecolor='r',center=0,fmt='.2f',cbar=False,cmap = 'Wistia_r')\n",
        "\n",
        "ax.set_xlabel('Predicted Labels');ax.set_ylabel('True Labels')\n",
        "\n",
        "ax.set_title('Confusion matrix')\n",
        "ax.xaxis.set_ticklabels(['Real','Fake'])\n",
        "ax.yaxis.set_ticklabels(['Real','Fake'])\n",
        "plt.show()\n",
        "\n",
        "#Classification Report\n",
        "print(classification_report(y_test, pred))"
      ],
      "execution_count": null,
      "outputs": []
    },
    {
      "cell_type": "code",
      "metadata": {
        "id": "_0BUiM7YuFBy"
      },
      "source": [
        "## Get Features names for passive aggressive classifier\n",
        "feature_names = tf_vec.get_feature_names()"
      ],
      "execution_count": null,
      "outputs": []
    },
    {
      "cell_type": "code",
      "metadata": {
        "id": "iR40qJczuKgd"
      },
      "source": [
        "pac.coef_[0]"
      ],
      "execution_count": null,
      "outputs": []
    },
    {
      "cell_type": "code",
      "metadata": {
        "id": "dmIQB0awuQHX"
      },
      "source": [
        "###  Seeing the Most real words in our news column\n",
        "sorted(zip(pac.coef_[0], feature_names), reverse=True)[:20]"
      ],
      "execution_count": null,
      "outputs": []
    },
    {
      "cell_type": "code",
      "metadata": {
        "id": "ZIW8gXKMuROG"
      },
      "source": [
        "### Seeing the Most fake words in our news column\n",
        "sorted(zip(pac.coef_[0], feature_names))[:20]"
      ],
      "execution_count": null,
      "outputs": []
    },
    {
      "cell_type": "code",
      "metadata": {
        "id": "SNpQUAS3uanQ"
      },
      "source": [
        "#2- Converting the Text using HashingVectorizer"
      ],
      "execution_count": 2,
      "outputs": []
    },
    {
      "cell_type": "code",
      "metadata": {
        "id": "McyLtUy3uf74"
      },
      "source": [
        "# Importing the library and converting it into vectors\n",
        "from sklearn.feature_extraction.text import HashingVectorizer\n",
        "hs_vectorizer=HashingVectorizer(n_features=30000, binary=bool)\n",
        "\n",
        "# Independent Features\n",
        "X = hs_vectorizer.fit_transform(df['news']).toarray()"
      ],
      "execution_count": null,
      "outputs": []
    },
    {
      "cell_type": "code",
      "metadata": {
        "id": "GuwKkEXCumUz"
      },
      "source": [
        "#Checking the shape of the independent features\n",
        "X.shape"
      ],
      "execution_count": null,
      "outputs": []
    },
    {
      "cell_type": "code",
      "metadata": {
        "id": "U1boCflSuqkY"
      },
      "source": [
        "# Dependent Features\n",
        "y = df['label']"
      ],
      "execution_count": null,
      "outputs": []
    },
    {
      "cell_type": "code",
      "metadata": {
        "id": "EF3QqEDouxSA"
      },
      "source": [
        "## Divide the dataset into Train and Test\n",
        "from sklearn.model_selection import train_test_split\n",
        "X_train, X_test, y_train, y_test = train_test_split(X, y, test_size=0.30, random_state=0)"
      ],
      "execution_count": null,
      "outputs": []
    },
    {
      "cell_type": "code",
      "metadata": {
        "id": "tI6fcX9NuyxJ"
      },
      "source": [
        "#Passive Aggressive Classifier"
      ],
      "execution_count": 3,
      "outputs": []
    },
    {
      "cell_type": "code",
      "metadata": {
        "id": "7ZciIWiEu91G"
      },
      "source": [
        "from sklearn.linear_model import PassiveAggressiveClassifier\n",
        "pas_model=PassiveAggressiveClassifier(validation_fraction=0.25,C=3,max_iter=1000,random_state=42,\n",
        "                                      n_iter_no_change=8,shuffle=True,loss='hinge',n_job=-1)\n",
        "pas_model.fit(X_train,y_train)\n",
        "pred=pas_model.predict(X_test)\n",
        "print(accuracy_score(y_test,pred))\n",
        "print(confusion_matrix(y_test,pred))\n",
        "print(classification_report(y_test,pred))"
      ],
      "execution_count": null,
      "outputs": []
    },
    {
      "cell_type": "code",
      "metadata": {
        "id": "4hbuapd5wSd1"
      },
      "source": [
        "\n",
        "#Conclusion: In Between Multinomial NB and Passive Aggressive Classifier Algorithm using TFIDF and Hashing Vectorizer , Passive Aggressive Classifier with TFIDF gives the best result so we save this model as our final model..¶"
      ],
      "execution_count": 4,
      "outputs": []
    },
    {
      "cell_type": "code",
      "metadata": {
        "id": "E3MzthdAwd8Q"
      },
      "source": [
        "#Saving the model\n",
        "import joblib\n",
        "joblib(pac,\"fake news detection\")"
      ],
      "execution_count": null,
      "outputs": []
    }
  ]
}